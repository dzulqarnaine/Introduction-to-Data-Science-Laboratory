{
 "cells": [
  {
   "cell_type": "code",
   "execution_count": 23,
   "id": "049d6089",
   "metadata": {},
   "outputs": [],
   "source": [
    "import pandas as pd\n",
    "import statsmodels.api as sm\n",
    "from statsmodels.formula.api import ols\n",
    "from scipy import stats\n",
    "from bioinfokit.analys import stat "
   ]
  },
  {
   "cell_type": "markdown",
   "id": "425384f4",
   "metadata": {},
   "source": [
    "# Chi-Square"
   ]
  },
  {
   "cell_type": "code",
   "execution_count": null,
   "id": "1f2b61eb",
   "metadata": {
    "scrolled": false
   },
   "outputs": [
    {
     "name": "stdout",
     "output_type": "stream",
     "text": [
      "   Pengetahuan    Sikap  Responden\n",
      "0        Cukup  Positif          1\n",
      "1       Kurang  Negatif          2\n",
      "2       Kurang  Positif          3\n",
      "3         Baik  Negatif          4\n",
      "4       Kurang  Negatif          5\n",
      "5       Kurang  Positif          6\n",
      "6         Baik  Negatif          7\n",
      "7         Baik  Positif          8\n",
      "8       Kurang  Positif          9\n",
      "9        Cukup  Negatif         10\n",
      "10      Kurang  Positif         11\n",
      "11      Kurang  Positif         12\n",
      "12        Baik  Positif         13\n",
      "13        Baik  Negatif         14\n",
      "14      Kurang  Positif         15\n",
      "15        Baik  Negatif         16\n",
      "16      Kurang  Positif         17\n",
      "17       Cukup  Negatif         18\n",
      "18        Baik  Negatif         19\n",
      "19      Kurang  Positif         20\n"
     ]
    }
   ],
   "source": [
    "zulkarnaini= pd.read_excel(\"Data.xlsx\", sheet_name =\"chi square\")\n",
    "print(zulkarnaini)"
   ]
  },
  {
   "cell_type": "code",
   "execution_count": 39,
   "id": "421b8051",
   "metadata": {
    "scrolled": true
   },
   "outputs": [
    {
     "name": "stdout",
     "output_type": "stream",
     "text": [
      "Pengetahuan  Baik  Cukup  Kurang\n",
      "Sikap                           \n",
      "Negatif         5      2       2\n",
      "Positif         2      1       8\n"
     ]
    }
   ],
   "source": [
    "chi_zulkarnaini = pd.crosstab(zulkarnaini[\"Sikap\"], zulkarnaini[\"Pengetahuan\"])\n",
    "print(chi_zulkarnaini)"
   ]
  },
  {
   "cell_type": "code",
   "execution_count": 28,
   "id": "29f82787",
   "metadata": {},
   "outputs": [
    {
     "name": "stdout",
     "output_type": "stream",
     "text": [
      "\n",
      "Chi-squared test for independence\n",
      "\n",
      "Test              Df    Chi-square    P-value\n",
      "--------------  ----  ------------  ---------\n",
      "Pearson            2       5.06975  0.0792718\n",
      "Log-likelihood     2       5.32264  0.0698558\n",
      "\n"
     ]
    }
   ],
   "source": [
    "res = stat()\n",
    "res.chisq(df=chi_zulkarnaini)\n",
    "print(res.summary)"
   ]
  },
  {
   "cell_type": "markdown",
   "id": "90083f93",
   "metadata": {},
   "source": [
    "# ANOVA\n"
   ]
  },
  {
   "cell_type": "code",
   "execution_count": 35,
   "id": "7e4481c9",
   "metadata": {},
   "outputs": [
    {
     "name": "stdout",
     "output_type": "stream",
     "text": [
      "   Percentage_of_Catton  Observed_tensile_strength\n",
      "0                    J1                          7\n",
      "1                    J2                         12\n",
      "2                    J3                         14\n",
      "3                    J4                         19\n",
      "4                    J5                          7\n",
      "5                    J1                          7\n",
      "6                    J2                         17\n",
      "7                    J3                         18\n",
      "8                    J4                         25\n",
      "9                    J5                         10\n",
      "10                   J1                         15\n",
      "11                   J2                         12\n",
      "12                   J3                         18\n",
      "13                   J4                         22\n",
      "14                   J5                         11\n",
      "15                   J1                         11\n",
      "16                   J2                         18\n",
      "17                   J3                         19\n",
      "18                   J4                         23\n",
      "19                   J5                         11\n",
      "20                   J1                          9\n",
      "21                   J2                         18\n",
      "22                   J3                         19\n",
      "23                   J4                         23\n",
      "24                   J5                         11\n"
     ]
    }
   ],
   "source": [
    "zulkarnaini2= zulkarnaini= pd.read_excel(\"C:/Users/ASUS/Downloads/DATA PRAK 4.xlsx\", sheet_name =\"anova\")\n",
    "print(zulkarnaini2)"
   ]
  },
  {
   "cell_type": "code",
   "execution_count": 36,
   "id": "47df5df9",
   "metadata": {},
   "outputs": [
    {
     "name": "stdout",
     "output_type": "stream",
     "text": [
      "                      sum_sq    df          F        PR(>F)\n",
      "Percentage_of_Catton  568.56   4.0  21.471299  5.266490e-07\n",
      "Residual              132.40  20.0        NaN           NaN\n"
     ]
    }
   ],
   "source": [
    "model_observed = ols('Observed_tensile_strength ~ Percentage_of_Catton', data=zulkarnaini2).fit()\n",
    "tabel_anova = sm.stats.anova_lm(model_observed, typ=2)\n",
    "print (tabel_anova)"
   ]
  },
  {
   "cell_type": "code",
   "execution_count": null,
   "id": "8343c29c",
   "metadata": {},
   "outputs": [],
   "source": []
  }
 ],
 "metadata": {
  "kernelspec": {
   "display_name": "Python 3 (ipykernel)",
   "language": "python",
   "name": "python3"
  },
  "language_info": {
   "codemirror_mode": {
    "name": "ipython",
    "version": 3
   },
   "file_extension": ".py",
   "mimetype": "text/x-python",
   "name": "python",
   "nbconvert_exporter": "python",
   "pygments_lexer": "ipython3",
   "version": "3.11.4"
  }
 },
 "nbformat": 4,
 "nbformat_minor": 5
}
