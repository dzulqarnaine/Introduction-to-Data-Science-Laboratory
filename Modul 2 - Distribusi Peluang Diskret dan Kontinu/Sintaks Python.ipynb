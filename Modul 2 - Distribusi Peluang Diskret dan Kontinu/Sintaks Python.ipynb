{
 "cells": [
  {
   "cell_type": "markdown",
   "id": "8f51b0ac",
   "metadata": {},
   "source": [
    "## Distribusi Binomial\n"
   ]
  },
  {
   "cell_type": "code",
   "execution_count": 1,
   "id": "4298f324",
   "metadata": {},
   "outputs": [],
   "source": [
    "# import matplotlib as plt\n",
    "from scipy.stats import binom"
   ]
  },
  {
   "cell_type": "code",
   "execution_count": 3,
   "id": "b6ea5c5e",
   "metadata": {},
   "outputs": [
    {
     "name": "stdout",
     "output_type": "stream",
     "text": [
      "Requirement already satisfied: SciPy in c:\\users\\asus\\anaconda3\\lib\\site-packages (1.10.1)Note: you may need to restart the kernel to use updated packages.\n",
      "\n",
      "Requirement already satisfied: numpy<1.27.0,>=1.19.5 in c:\\users\\asus\\anaconda3\\lib\\site-packages (from SciPy) (1.24.3)\n"
     ]
    }
   ],
   "source": [
    "pip install SciPy"
   ]
  },
  {
   "cell_type": "code",
   "execution_count": 4,
   "id": "d45252ec",
   "metadata": {},
   "outputs": [
    {
     "name": "stdout",
     "output_type": "stream",
     "text": [
      "0.005585998513486333\n"
     ]
    }
   ],
   "source": [
    "#Peluang tepat 3 orang akan diterima x = 3\n",
    "n = 38\n",
    "p = 0.25\n",
    "\n",
    "b = binom(n,p)\n",
    "print(b.pmf(3))\n"
   ]
  },
  {
   "cell_type": "code",
   "execution_count": 5,
   "id": "457706b0",
   "metadata": {
    "scrolled": true
   },
   "outputs": [
    {
     "name": "stdout",
     "output_type": "stream",
     "text": [
      "0.007226835914674016\n"
     ]
    }
   ],
   "source": [
    "#Sebanyak sebanyak–banyaknya 3 orang yang diterima x <= 3\n",
    "n = 38\n",
    "p = 0.25\n",
    "\n",
    "b = binom(n,p)\n",
    "print(b.cdf(3))"
   ]
  },
  {
   "cell_type": "code",
   "execution_count": 49,
   "id": "d8e3630a",
   "metadata": {},
   "outputs": [
    {
     "name": "stdout",
     "output_type": "stream",
     "text": [
      "1.7878373620688906e-05\n"
     ]
    }
   ],
   "source": [
    "#Peluang tidak yang diterima dengan x = 0\n",
    "n = 38\n",
    "p = 0.25\n",
    "b = binom(n,p)\n",
    "print(b.pmf(0))"
   ]
  },
  {
   "cell_type": "code",
   "execution_count": 7,
   "id": "7a8adc4a",
   "metadata": {},
   "outputs": [
    {
     "name": "stdout",
     "output_type": "stream",
     "text": [
      "0.992773164085326\n"
     ]
    }
   ],
   "source": [
    "#Peluang lebih dari x > 3\n",
    "\n",
    "b = binom(n,p)\n",
    "print(1 - b.cdf(3))"
   ]
  },
  {
   "cell_type": "markdown",
   "id": "0d6a16cd",
   "metadata": {},
   "source": [
    "## Distribusi Poisson"
   ]
  },
  {
   "cell_type": "code",
   "execution_count": 9,
   "id": "69bf78e9",
   "metadata": {},
   "outputs": [],
   "source": [
    "import numpy as np\n",
    "from scipy.stats import poisson"
   ]
  },
  {
   "cell_type": "code",
   "execution_count": 10,
   "id": "4152b0e4",
   "metadata": {},
   "outputs": [
    {
     "name": "stdout",
     "output_type": "stream",
     "text": [
      "0.0024787521766663585\n"
     ]
    }
   ],
   "source": [
    "#Peluang bahwa pada suatu hari tidak ada telepon yang masuk (x = 0)\n",
    "L = 6\n",
    "P = poisson(L)\n",
    "\n",
    "print(P.pmf(0))"
   ]
  },
  {
   "cell_type": "code",
   "execution_count": 11,
   "id": "4954478f",
   "metadata": {},
   "outputs": [
    {
     "name": "stdout",
     "output_type": "stream",
     "text": [
      "0.6063027824125914\n"
     ]
    }
   ],
   "source": [
    "#Peluang telepon masuk paling banyak 6 kali\n",
    "L = 6\n",
    "P = poisson(L)\n",
    "\n",
    "print(P.cdf(6))"
   ]
  },
  {
   "cell_type": "code",
   "execution_count": 12,
   "id": "e3cacdc7",
   "metadata": {},
   "outputs": [
    {
     "name": "stdout",
     "output_type": "stream",
     "text": [
      "0.3936972175874086\n"
     ]
    }
   ],
   "source": [
    "#Peluang telepon lebih dari 6 kali\n",
    "L = 6\n",
    "P = poisson(L)\n",
    "print (1-P.cdf(6))"
   ]
  },
  {
   "cell_type": "markdown",
   "id": "36b7c480",
   "metadata": {},
   "source": [
    "## Distribusi Normal"
   ]
  },
  {
   "cell_type": "code",
   "execution_count": 17,
   "id": "5b14f23f",
   "metadata": {},
   "outputs": [],
   "source": [
    "import scipy.stats"
   ]
  },
  {
   "cell_type": "code",
   "execution_count": 19,
   "id": "2167f8b8",
   "metadata": {},
   "outputs": [
    {
     "data": {
      "text/plain": [
       "0.9937903346742238"
      ]
     },
     "execution_count": 19,
     "metadata": {},
     "output_type": "execute_result"
    }
   ],
   "source": [
    "#Peluang mesin tersebut akan mengeluarkan minuman ringan paling banyak 7,25 ons per gelas\n",
    "µ = 7\n",
    "Sd = 0.1\n",
    "normal = scipy.stats.norm\n",
    "\n",
    "normal(7, 0.1).cdf(7.25)"
   ]
  },
  {
   "cell_type": "code",
   "execution_count": 57,
   "id": "0691888f",
   "metadata": {},
   "outputs": [
    {
     "data": {
      "text/plain": [
       "0.17528300493568538"
      ]
     },
     "execution_count": 57,
     "metadata": {},
     "output_type": "execute_result"
    }
   ],
   "source": [
    "#Peluang mesin tersebut akan mengeluarkan minuman ringan tepat 7,25 ons per gelas\n",
    "µ = 7\n",
    "Sd = 0.1\n",
    "scipy.stats.norm(7, 0.1).pdf(7.25)"
   ]
  },
  {
   "cell_type": "code",
   "execution_count": null,
   "id": "516ea35b",
   "metadata": {},
   "outputs": [],
   "source": []
  }
 ],
 "metadata": {
  "kernelspec": {
   "display_name": "Python 3 (ipykernel)",
   "language": "python",
   "name": "python3"
  },
  "language_info": {
   "codemirror_mode": {
    "name": "ipython",
    "version": 3
   },
   "file_extension": ".py",
   "mimetype": "text/x-python",
   "name": "python",
   "nbconvert_exporter": "python",
   "pygments_lexer": "ipython3",
   "version": "3.11.4"
  }
 },
 "nbformat": 4,
 "nbformat_minor": 5
}
