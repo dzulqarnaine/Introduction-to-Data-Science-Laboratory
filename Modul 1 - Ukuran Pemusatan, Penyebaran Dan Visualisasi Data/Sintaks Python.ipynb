{
 "cells": [
  {
   "cell_type": "code",
   "execution_count": 2,
   "id": "e35a1a30",
   "metadata": {},
   "outputs": [],
   "source": [
    "import pandas as pd\n",
    "import numpy as np \n",
    "import matplotlib.pyplot as plt\n",
    "import openpyxl"
   ]
  },
  {
   "cell_type": "code",
   "execution_count": null,
   "id": "2bf9556e",
   "metadata": {},
   "outputs": [
    {
     "data": {
      "text/html": [
       "<div>\n",
       "<style scoped>\n",
       "    .dataframe tbody tr th:only-of-type {\n",
       "        vertical-align: middle;\n",
       "    }\n",
       "\n",
       "    .dataframe tbody tr th {\n",
       "        vertical-align: top;\n",
       "    }\n",
       "\n",
       "    .dataframe thead th {\n",
       "        text-align: right;\n",
       "    }\n",
       "</style>\n",
       "<table border=\"1\" class=\"dataframe\">\n",
       "  <thead>\n",
       "    <tr style=\"text-align: right;\">\n",
       "      <th></th>\n",
       "      <th>WILAYAH</th>\n",
       "      <th>IPM2018</th>\n",
       "      <th>IPM2019</th>\n",
       "      <th>IPM2020</th>\n",
       "    </tr>\n",
       "  </thead>\n",
       "  <tbody>\n",
       "    <tr>\n",
       "      <th>0</th>\n",
       "      <td>SIMEULUE</td>\n",
       "      <td>64.74</td>\n",
       "      <td>65.70</td>\n",
       "      <td>66.03</td>\n",
       "    </tr>\n",
       "    <tr>\n",
       "      <th>1</th>\n",
       "      <td>ACEH SINGKIL</td>\n",
       "      <td>68.02</td>\n",
       "      <td>68.91</td>\n",
       "      <td>68.94</td>\n",
       "    </tr>\n",
       "    <tr>\n",
       "      <th>2</th>\n",
       "      <td>ACEH SELATAN</td>\n",
       "      <td>65.92</td>\n",
       "      <td>66.90</td>\n",
       "      <td>67.12</td>\n",
       "    </tr>\n",
       "    <tr>\n",
       "      <th>3</th>\n",
       "      <td>ACEH TENGGARA</td>\n",
       "      <td>68.67</td>\n",
       "      <td>69.36</td>\n",
       "      <td>69.37</td>\n",
       "    </tr>\n",
       "    <tr>\n",
       "      <th>4</th>\n",
       "      <td>ACEH TIMUR</td>\n",
       "      <td>66.82</td>\n",
       "      <td>67.39</td>\n",
       "      <td>67.63</td>\n",
       "    </tr>\n",
       "    <tr>\n",
       "      <th>5</th>\n",
       "      <td>ACEH TENGAH</td>\n",
       "      <td>72.64</td>\n",
       "      <td>73.14</td>\n",
       "      <td>73.24</td>\n",
       "    </tr>\n",
       "    <tr>\n",
       "      <th>6</th>\n",
       "      <td>ACEH BARAT</td>\n",
       "      <td>70.47</td>\n",
       "      <td>71.22</td>\n",
       "      <td>71.38</td>\n",
       "    </tr>\n",
       "    <tr>\n",
       "      <th>7</th>\n",
       "      <td>ACEH BESAR</td>\n",
       "      <td>72.73</td>\n",
       "      <td>73.55</td>\n",
       "      <td>73.56</td>\n",
       "    </tr>\n",
       "    <tr>\n",
       "      <th>8</th>\n",
       "      <td>PIDIE</td>\n",
       "      <td>69.93</td>\n",
       "      <td>70.41</td>\n",
       "      <td>70.63</td>\n",
       "    </tr>\n",
       "    <tr>\n",
       "      <th>9</th>\n",
       "      <td>BIREUEN</td>\n",
       "      <td>71.37</td>\n",
       "      <td>72.27</td>\n",
       "      <td>72.28</td>\n",
       "    </tr>\n",
       "    <tr>\n",
       "      <th>10</th>\n",
       "      <td>ACEH UTARA</td>\n",
       "      <td>68.36</td>\n",
       "      <td>69.22</td>\n",
       "      <td>69.33</td>\n",
       "    </tr>\n",
       "    <tr>\n",
       "      <th>11</th>\n",
       "      <td>ACEH BARAT DAYA</td>\n",
       "      <td>65.67</td>\n",
       "      <td>66.56</td>\n",
       "      <td>66.75</td>\n",
       "    </tr>\n",
       "    <tr>\n",
       "      <th>12</th>\n",
       "      <td>GAYO LUES</td>\n",
       "      <td>65.88</td>\n",
       "      <td>66.87</td>\n",
       "      <td>67.22</td>\n",
       "    </tr>\n",
       "    <tr>\n",
       "      <th>13</th>\n",
       "      <td>ACEH TAMIANG</td>\n",
       "      <td>68.45</td>\n",
       "      <td>69.23</td>\n",
       "      <td>69.24</td>\n",
       "    </tr>\n",
       "    <tr>\n",
       "      <th>14</th>\n",
       "      <td>NAGAN RAYA</td>\n",
       "      <td>68.15</td>\n",
       "      <td>69.11</td>\n",
       "      <td>69.18</td>\n",
       "    </tr>\n",
       "    <tr>\n",
       "      <th>15</th>\n",
       "      <td>ACEH JAYA</td>\n",
       "      <td>68.83</td>\n",
       "      <td>69.74</td>\n",
       "      <td>69.75</td>\n",
       "    </tr>\n",
       "    <tr>\n",
       "      <th>16</th>\n",
       "      <td>BENER MERIAH</td>\n",
       "      <td>72.14</td>\n",
       "      <td>72.97</td>\n",
       "      <td>72.98</td>\n",
       "    </tr>\n",
       "    <tr>\n",
       "      <th>17</th>\n",
       "      <td>PIDIE JAYA</td>\n",
       "      <td>71.12</td>\n",
       "      <td>72.87</td>\n",
       "      <td>73.20</td>\n",
       "    </tr>\n",
       "    <tr>\n",
       "      <th>18</th>\n",
       "      <td>BANDA ACEH</td>\n",
       "      <td>84.37</td>\n",
       "      <td>85.07</td>\n",
       "      <td>85.41</td>\n",
       "    </tr>\n",
       "    <tr>\n",
       "      <th>19</th>\n",
       "      <td>SABANG</td>\n",
       "      <td>74.82</td>\n",
       "      <td>75.77</td>\n",
       "      <td>75.78</td>\n",
       "    </tr>\n",
       "    <tr>\n",
       "      <th>20</th>\n",
       "      <td>LANGSA</td>\n",
       "      <td>76.34</td>\n",
       "      <td>77.16</td>\n",
       "      <td>77.17</td>\n",
       "    </tr>\n",
       "    <tr>\n",
       "      <th>21</th>\n",
       "      <td>LHOKSEUMAWE</td>\n",
       "      <td>76.62</td>\n",
       "      <td>77.30</td>\n",
       "      <td>77.31</td>\n",
       "    </tr>\n",
       "    <tr>\n",
       "      <th>22</th>\n",
       "      <td>SUBULUSSALAM</td>\n",
       "      <td>63.48</td>\n",
       "      <td>64.46</td>\n",
       "      <td>64.93</td>\n",
       "    </tr>\n",
       "  </tbody>\n",
       "</table>\n",
       "</div>"
      ],
      "text/plain": [
       "            WILAYAH  IPM2018  IPM2019  IPM2020\n",
       "0          SIMEULUE    64.74    65.70    66.03\n",
       "1      ACEH SINGKIL    68.02    68.91    68.94\n",
       "2      ACEH SELATAN    65.92    66.90    67.12\n",
       "3     ACEH TENGGARA    68.67    69.36    69.37\n",
       "4        ACEH TIMUR    66.82    67.39    67.63\n",
       "5       ACEH TENGAH    72.64    73.14    73.24\n",
       "6        ACEH BARAT    70.47    71.22    71.38\n",
       "7        ACEH BESAR    72.73    73.55    73.56\n",
       "8             PIDIE    69.93    70.41    70.63\n",
       "9           BIREUEN    71.37    72.27    72.28\n",
       "10       ACEH UTARA    68.36    69.22    69.33\n",
       "11  ACEH BARAT DAYA    65.67    66.56    66.75\n",
       "12        GAYO LUES    65.88    66.87    67.22\n",
       "13     ACEH TAMIANG    68.45    69.23    69.24\n",
       "14       NAGAN RAYA    68.15    69.11    69.18\n",
       "15        ACEH JAYA    68.83    69.74    69.75\n",
       "16     BENER MERIAH    72.14    72.97    72.98\n",
       "17       PIDIE JAYA    71.12    72.87    73.20\n",
       "18       BANDA ACEH    84.37    85.07    85.41\n",
       "19           SABANG    74.82    75.77    75.78\n",
       "20           LANGSA    76.34    77.16    77.17\n",
       "21      LHOKSEUMAWE    76.62    77.30    77.31\n",
       "22     SUBULUSSALAM    63.48    64.46    64.93"
      ]
     },
     "execution_count": 4,
     "metadata": {},
     "output_type": "execute_result"
    }
   ],
   "source": [
    "df = pd.read_excel(\"IPM.xlsx\")\n",
    "df"
   ]
  },
  {
   "cell_type": "markdown",
   "id": "c482f760",
   "metadata": {},
   "source": [
    "# Ukuran pemusatan Data"
   ]
  },
  {
   "cell_type": "code",
   "execution_count": 9,
   "id": "a9a31816",
   "metadata": {},
   "outputs": [
    {
     "name": "stdout",
     "output_type": "stream",
     "text": [
      "Nilai Mean IPM2018 : 70.2408695652174\n",
      "Nilai Mean IPM2019 : 71.09478260869565\n",
      "Nilai Mean IPM2020 : 71.23608695652175\n"
     ]
    }
   ],
   "source": [
    "#Mean\n",
    "print('Nilai Mean IPM2018 :', df['IPM2018'].mean())\n",
    "print('Nilai Mean IPM2019 :', df['IPM2019'].mean())\n",
    "print('Nilai Mean IPM2020 :', df['IPM2020'].mean())"
   ]
  },
  {
   "cell_type": "code",
   "execution_count": 11,
   "id": "33f9c897",
   "metadata": {},
   "outputs": [
    {
     "name": "stdout",
     "output_type": "stream",
     "text": [
      "Nilai Median IPM2018 : 68.83\n"
     ]
    }
   ],
   "source": [
    "#Median\n",
    "\n",
    "print('Nilai Median IPM2018 :', df['IPM2018'].median())"
   ]
  },
  {
   "cell_type": "code",
   "execution_count": 13,
   "id": "eecad5b2",
   "metadata": {},
   "outputs": [
    {
     "name": "stdout",
     "output_type": "stream",
     "text": [
      "Nilai MAXIMUM IPM2018 : 84.37\n"
     ]
    }
   ],
   "source": [
    "#Max\n",
    "\n",
    "print('Nilai MAXIMUM IPM2018 :', df['IPM2018'].max())"
   ]
  },
  {
   "cell_type": "code",
   "execution_count": 16,
   "id": "ae7e83ca",
   "metadata": {},
   "outputs": [
    {
     "name": "stdout",
     "output_type": "stream",
     "text": [
      "Nilai Minimum IPM2018 : 63.48\n"
     ]
    }
   ],
   "source": [
    "#Min \n",
    "print('Nilai Minimum IPM2018 :',df['IPM2018'].min())"
   ]
  },
  {
   "cell_type": "markdown",
   "id": "ece2ed1a",
   "metadata": {},
   "source": [
    "# Penyebaran Data"
   ]
  },
  {
   "cell_type": "code",
   "execution_count": 18,
   "id": "d3e975ad",
   "metadata": {},
   "outputs": [
    {
     "name": "stdout",
     "output_type": "stream",
     "text": [
      "Nilai Standar deviasi IPM2018: 4.6856016524935\n"
     ]
    }
   ],
   "source": [
    "std = df['IPM2018'].std()\n",
    "\n",
    "print('Nilai Standar deviasi IPM2018:', std)"
   ]
  },
  {
   "cell_type": "code",
   "execution_count": 21,
   "id": "cb701210",
   "metadata": {},
   "outputs": [
    {
     "name": "stdout",
     "output_type": "stream",
     "text": [
      "NIlai quartile IPM2018 : 0.25    67.42\n",
      "0.50    68.83\n",
      "0.75    72.39\n",
      "Name: IPM2018, dtype: float64\n"
     ]
    }
   ],
   "source": [
    "print(\"NIlai quartile IPM2018 :\", df['IPM2018'].quantile([0.25, 0.50, 0.75]))"
   ]
  },
  {
   "cell_type": "code",
   "execution_count": 26,
   "id": "a5f2c2bd",
   "metadata": {},
   "outputs": [
    {
     "name": "stdout",
     "output_type": "stream",
     "text": [
      "NIlai varian IPM2018 : 21.954862845849817\n"
     ]
    }
   ],
   "source": [
    "print(\"NIlai varian IPM2018 :\", df['IPM2018'].var())"
   ]
  },
  {
   "cell_type": "code",
   "execution_count": 30,
   "id": "da6ecb32",
   "metadata": {},
   "outputs": [
    {
     "name": "stdout",
     "output_type": "stream",
     "text": [
      "Nilai IQR IPM2018 :  4.970000000000013\n"
     ]
    }
   ],
   "source": [
    "#IQR\n",
    "x = df['IPM2018'].quantile(0.75)-df['IPM2018'].quantile(0.25)\n",
    "print(\"Nilai IQR IPM2018 : \", x)"
   ]
  },
  {
   "cell_type": "code",
   "execution_count": 33,
   "id": "ee5c6acf",
   "metadata": {},
   "outputs": [
    {
     "name": "stdout",
     "output_type": "stream",
     "text": [
      "Summary data :          IPM2018    IPM2019    IPM2020\n",
      "count  23.000000  23.000000  23.000000\n",
      "mean   70.240870  71.094783  71.236087\n",
      "std     4.685602   4.644689   4.608888\n",
      "min    63.480000  64.460000  64.930000\n",
      "25%    67.420000  68.150000  68.285000\n",
      "50%    68.830000  69.740000  69.750000\n",
      "75%    72.390000  73.055000  73.220000\n",
      "max    84.370000  85.070000  85.410000\n"
     ]
    }
   ],
   "source": [
    "#Summary\n",
    "print(\"Summary data :\",df.describe())"
   ]
  },
  {
   "cell_type": "markdown",
   "id": "d4cc8511",
   "metadata": {},
   "source": [
    "# Visualisasi Data"
   ]
  },
  {
   "cell_type": "code",
   "execution_count": 43,
   "id": "ef93a4a2",
   "metadata": {},
   "outputs": [
    {
     "data": {
      "text/plain": [
       "Text(0, 0.5, 'frekuensi')"
      ]
     },
     "execution_count": 43,
     "metadata": {},
     "output_type": "execute_result"
    },
    {
     "data": {
      "image/png": "[encoded data removed]",
      "text/plain": [
       "<Figure size 640x480 with 1 Axes>"
      ]
     },
     "metadata": {},
     "output_type": "display_data"
    }
   ],
   "source": [
    "#Histogram\n",
    "plt.hist(df['IPM2018'], color=\"blue\", edgecolor='black')\n",
    "plt.title(\"Histogram dari IPM 2018\")\n",
    "plt.xlabel(\"IPM2018\")\n",
    "plt.ylabel(\"frekuensi\")\n"
   ]
  },
  {
   "cell_type": "code",
   "execution_count": 47,
   "id": "e5d2860e",
   "metadata": {},
   "outputs": [
    {
     "data": {
      "text/plain": [
       "Text(0, 0.5, 'frekuensi')"
      ]
     },
     "execution_count": 47,
     "metadata": {},
     "output_type": "execute_result"
    },
    {
     "data": {
      "image/png": "[encoded data removed]",
      "text/plain": [
       "<Figure size 640x480 with 1 Axes>"
      ]
     },
     "metadata": {},
     "output_type": "display_data"
    }
   ],
   "source": [
    "#BOXPLOT\n",
    "\n",
    "plt.boxplot(df['IPM2019'], patch_artist=True, boxprops=dict(facecolor='lightblue'))\n",
    "plt.title(\"Boxplot dari IPM 2019\")\n",
    "plt.xlabel(\"IPM2019\")\n",
    "plt.ylabel(\"frekuensi\")"
   ]
  },
  {
   "cell_type": "code",
   "execution_count": 49,
   "id": "9e5cf54d",
   "metadata": {},
   "outputs": [
    {
     "data": {
      "text/plain": [
       "(<Figure size 750x225 with 1 Axes>, <Axes: >)"
      ]
     },
     "execution_count": 49,
     "metadata": {},
     "output_type": "execute_result"
    },
    {
     "data": {
      "image/png": "[encoded data removed]",
      "text/plain": [
       "<Figure size 750x225 with 1 Axes>"
      ]
     },
     "metadata": {},
     "output_type": "display_data"
    }
   ],
   "source": [
    "import stemgraphic\n",
    "stemgraphic.stem_graphic(df['IPM2020'])"
   ]
  },
  {
   "cell_type": "code",
   "execution_count": 50,
   "id": "cd334c95",
   "metadata": {},
   "outputs": [
    {
     "name": "stdout",
     "output_type": "stream",
     "text": [
      "Requirement already satisfied: stemgraphic in c:\\users\\asus\\anaconda3\\lib\\site-packages (0.9.0)Note: you may need to restart the kernel to use updated packages.\n",
      "\n",
      "Requirement already satisfied: docopt in c:\\users\\asus\\anaconda3\\lib\\site-packages (from stemgraphic) (0.6.2)\n",
      "Requirement already satisfied: matplotlib in c:\\users\\asus\\anaconda3\\lib\\site-packages (from stemgraphic) (3.7.1)\n",
      "Requirement already satisfied: pandas in c:\\users\\asus\\anaconda3\\lib\\site-packages (from stemgraphic) (2.0.3)\n",
      "Requirement already satisfied: seaborn in c:\\users\\asus\\anaconda3\\lib\\site-packages (from stemgraphic) (0.12.2)\n",
      "Requirement already satisfied: contourpy>=1.0.1 in c:\\users\\asus\\anaconda3\\lib\\site-packages (from matplotlib->stemgraphic) (1.0.5)\n",
      "Requirement already satisfied: cycler>=0.10 in c:\\users\\asus\\anaconda3\\lib\\site-packages (from matplotlib->stemgraphic) (0.11.0)\n",
      "Requirement already satisfied: fonttools>=4.22.0 in c:\\users\\asus\\anaconda3\\lib\\site-packages (from matplotlib->stemgraphic) (4.25.0)\n",
      "Requirement already satisfied: kiwisolver>=1.0.1 in c:\\users\\asus\\anaconda3\\lib\\site-packages (from matplotlib->stemgraphic) (1.4.4)\n",
      "Requirement already satisfied: numpy>=1.20 in c:\\users\\asus\\anaconda3\\lib\\site-packages (from matplotlib->stemgraphic) (1.24.3)\n",
      "Requirement already satisfied: packaging>=20.0 in c:\\users\\asus\\anaconda3\\lib\\site-packages (from matplotlib->stemgraphic) (23.0)\n",
      "Requirement already satisfied: pillow>=6.2.0 in c:\\users\\asus\\anaconda3\\lib\\site-packages (from matplotlib->stemgraphic) (9.4.0)\n",
      "Requirement already satisfied: pyparsing>=2.3.1 in c:\\users\\asus\\anaconda3\\lib\\site-packages (from matplotlib->stemgraphic) (3.0.9)\n",
      "Requirement already satisfied: python-dateutil>=2.7 in c:\\users\\asus\\anaconda3\\lib\\site-packages (from matplotlib->stemgraphic) (2.8.2)\n",
      "Requirement already satisfied: pytz>=2020.1 in c:\\users\\asus\\anaconda3\\lib\\site-packages (from pandas->stemgraphic) (2022.7)\n",
      "Requirement already satisfied: tzdata>=2022.1 in c:\\users\\asus\\anaconda3\\lib\\site-packages (from pandas->stemgraphic) (2023.3)\n",
      "Requirement already satisfied: six>=1.5 in c:\\users\\asus\\anaconda3\\lib\\site-packages (from python-dateutil>=2.7->matplotlib->stemgraphic) (1.16.0)\n"
     ]
    }
   ],
   "source": [
    "pip install stemgraphic"
   ]
  },
  {
   "cell_type": "code",
   "execution_count": null,
   "id": "1140faf3",
   "metadata": {},
   "outputs": [],
   "source": []
  }
 ],
 "metadata": {
  "kernelspec": {
   "display_name": "Python 3 (ipykernel)",
   "language": "python",
   "name": "python3"
  },
  "language_info": {
   "codemirror_mode": {
    "name": "ipython",
    "version": 3
   },
   "file_extension": ".py",
   "mimetype": "text/x-python",
   "name": "python",
   "nbconvert_exporter": "python",
   "pygments_lexer": "ipython3",
   "version": "3.11.4"
  },
  "widgets": {
   "application/vnd.jupyter.widget-state+json": {
    "state": {},
    "version_major": 2,
    "version_minor": 0
   }
  }
 },
 "nbformat": 4,
 "nbformat_minor": 5
}
