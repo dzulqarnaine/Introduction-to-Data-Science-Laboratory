{
 "cells": [
  {
   "cell_type": "code",
   "execution_count": 21,
   "metadata": {},
   "outputs": [],
   "source": [
    "import researchpy as rp\n",
    "import numpy as np\n",
    "import pandas as pd\n",
    "from scipy import stats\n",
    "from scipy.stats import ttest_ind\n",
    "import math\n",
    "import matplotlib.pyplot as plt\n",
    "import openpyxl"
   ]
  },
  {
   "cell_type": "code",
   "execution_count": null,
   "metadata": {},
   "outputs": [
    {
     "name": "stdout",
     "output_type": "stream",
     "text": [
      "    Pasien\n",
      "0       24\n",
      "1       19\n",
      "2       25\n",
      "3       22\n",
      "4       29\n",
      "5       30\n",
      "6       21\n",
      "7       26\n",
      "8       35\n",
      "9       27\n",
      "10      24\n",
      "11      17\n",
      "12      23\n",
      "13      28\n",
      "14      25\n"
     ]
    }
   ],
   "source": [
    "df= pd.read_excel(\"Data.xlsx\", sheet_name=0)\n",
    "print(df)"
   ]
  },
  {
   "cell_type": "markdown",
   "metadata": {},
   "source": [
    "## Pengujian Satu Arah Sampel Kecil"
   ]
  },
  {
   "cell_type": "code",
   "execution_count": 24,
   "metadata": {},
   "outputs": [
    {
     "data": {
      "image/png": "[encoded data removed]",
      "text/plain": [
       "<Figure size 640x480 with 1 Axes>"
      ]
     },
     "metadata": {},
     "output_type": "display_data"
    }
   ],
   "source": [
    "plt.boxplot(df[\"Pasien\"])\n",
    "plt.show()"
   ]
  },
  {
   "cell_type": "code",
   "execution_count": 25,
   "metadata": {},
   "outputs": [
    {
     "data": {
      "text/plain": [
       "TtestResult(statistic=array([0.]), pvalue=array([0.5]), df=array([14]))"
      ]
     },
     "execution_count": 25,
     "metadata": {},
     "output_type": "execute_result"
    }
   ],
   "source": [
    "#T TEST DATA TUNGGAl\n",
    "stats.ttest_1samp(df, 25, alternative='greater')"
   ]
  },
  {
   "cell_type": "markdown",
   "metadata": {},
   "source": [
    "## Pengujian Satu Arah Sampel Besar"
   ]
  },
  {
   "cell_type": "code",
   "execution_count": 28,
   "metadata": {},
   "outputs": [
    {
     "name": "stdout",
     "output_type": "stream",
     "text": [
      "    Kelahiran\n",
      "0        32.5\n",
      "1        34.8\n",
      "2        32.8\n",
      "3        39.8\n",
      "4        32.4\n",
      "5        27.8\n",
      "6        33.1\n",
      "7        35.8\n",
      "8        34.2\n",
      "9        18.5\n",
      "10       40.6\n",
      "11       32.9\n",
      "12       34.2\n",
      "13       37.3\n",
      "14       27.3\n",
      "15       29.8\n",
      "16       20.7\n",
      "17       31.2\n",
      "18       32.4\n",
      "19       27.8\n",
      "20       35.1\n",
      "21       25.7\n",
      "22       37.4\n",
      "23       39.7\n",
      "24       44.3\n",
      "25       32.0\n",
      "26       18.2\n",
      "27       40.7\n",
      "28       34.5\n",
      "29       37.6\n",
      "30       28.6\n",
      "31       33.8\n",
      "32       42.0\n",
      "33       43.2\n",
      "34       35.8\n",
      "35       32.5\n",
      "36       30.0\n",
      "37       36.0\n",
      "38       36.2\n",
      "39       33.1\n",
      "40       36.5\n",
      "41       31.6\n",
      "42       31.6\n",
      "43       15.8\n",
      "44       39.0\n",
      "45       27.2\n",
      "46       29.7\n",
      "47       42.8\n",
      "48       33.1\n",
      "49       43.1\n",
      "50       43.1\n"
     ]
    }
   ],
   "source": [
    "df2= pd.read_excel(\"C:/Users/ASUS/Downloads/DATA PRAK 3.xlsx\", sheet_name=\"Sheet2\")\n",
    "print(df2)"
   ]
  },
  {
   "cell_type": "code",
   "execution_count": 29,
   "metadata": {},
   "outputs": [
    {
     "data": {
      "text/plain": [
       "Kelahiran   -0.058685\n",
       "dtype: float64"
      ]
     },
     "execution_count": 29,
     "metadata": {},
     "output_type": "execute_result"
    }
   ],
   "source": [
    "Xbar = df2.mean()\n",
    "Miu = 33.5\n",
    "Sd = df2.std()\n",
    "n = len(df2)\n",
    "\n",
    "#Z hitung\n",
    "z = (Xbar - Miu)/(Sd/math.sqrt(n))\n",
    "z\n"
   ]
  },
  {
   "cell_type": "code",
   "execution_count": 39,
   "metadata": {},
   "outputs": [
    {
     "name": "stdout",
     "output_type": "stream",
     "text": [
      "p-value: [0.47660141]\n"
     ]
    }
   ],
   "source": [
    "pvalue = stats.norm.cdf(z)\n",
    "print(\"p-value:\",pvalue)\n"
   ]
  },
  {
   "cell_type": "markdown",
   "metadata": {},
   "source": [
    "## Penguji Dua Sampel Saling Bebas untuk Sampel Kecil "
   ]
  },
  {
   "cell_type": "code",
   "execution_count": 41,
   "metadata": {},
   "outputs": [
    {
     "name": "stdout",
     "output_type": "stream",
     "text": [
      "   Pendidikan Sales  Rasa Durian\n",
      "0           Sarjana          300\n",
      "1           Sarjana          320\n",
      "2           Sarjana          324\n",
      "3           Sarjana          315\n",
      "4           Sarjana          400\n",
      "5           Sarjana          420\n",
      "6          Akademik          398\n",
      "7          Akademik          375\n",
      "8          Akademik          364\n",
      "9          Akademik          325\n",
      "10         Akademik          410\n",
      "11         Akademik          425\n"
     ]
    }
   ],
   "source": [
    "df3= pd.read_excel(\"C:/Users/ASUS/Downloads/DATA PRAK 3.xlsx\", sheet_name=\"Sheet3\")\n",
    "print(df3)"
   ]
  },
  {
   "cell_type": "code",
   "execution_count": 43,
   "metadata": {},
   "outputs": [
    {
     "data": {
      "text/plain": [
       "Ttest_indResult(statistic=1.4386634255316422, pvalue=0.18079935149974058)"
      ]
     },
     "execution_count": 43,
     "metadata": {},
     "output_type": "execute_result"
    }
   ],
   "source": [
    "Akademi = df3[df3['Pendidikan Sales'] == 'Akademik']\n",
    "Sarjana = df3[df3['Pendidikan Sales'] == 'Sarjana']\n",
    "TwoTail = ttest_ind(Akademi['Rasa Durian'],Sarjana['Rasa Durian'], equal_var=True)\n",
    "TwoTail"
   ]
  },
  {
   "cell_type": "markdown",
   "metadata": {},
   "source": [
    "## Pengujian Sampel Berpasangan"
   ]
  },
  {
   "cell_type": "code",
   "execution_count": 44,
   "metadata": {},
   "outputs": [
    {
     "name": "stdout",
     "output_type": "stream",
     "text": [
      "   Sebelum  Sesudah\n",
      "0    76.85    76.22\n",
      "1    77.95    77.89\n",
      "2    78.65    79.02\n",
      "3    79.25    80.21\n",
      "4    82.65    82.65\n",
      "5    88.15    82.53\n",
      "6    92.54    92.56\n",
      "7    96.25    92.33\n",
      "8    84.56    85.12\n",
      "9    88.25    84.56\n"
     ]
    }
   ],
   "source": [
    "df4= pd.read_excel(\"C:/Users/ASUS/Downloads/DATA PRAK 3.xlsx\", sheet_name=3)\n",
    "print(df4)"
   ]
  },
  {
   "cell_type": "code",
   "execution_count": 23,
   "metadata": {},
   "outputs": [
    {
     "name": "stderr",
     "output_type": "stream",
     "text": [
      "c:\\Users\\ASUS\\AppData\\Local\\Programs\\Python\\Python310\\lib\\site-packages\\researchpy\\ttest.py:301: FutureWarning: Setting an item of incompatible dtype is deprecated and will raise an error in a future version of pandas. Value 'Sebelum' has dtype incompatible with float64, please explicitly cast to a compatible dtype first.\n",
      "  table.iloc[0,0] = group1_name\n",
      "c:\\Users\\ASUS\\AppData\\Local\\Programs\\Python\\Python310\\lib\\site-packages\\researchpy\\ttest.py:419: FutureWarning: Setting an item of incompatible dtype is deprecated and will raise an error in a future version of pandas. Value 'Difference (Sebelum - Sesudah) = ' has dtype incompatible with float64, please explicitly cast to a compatible dtype first.\n",
      "  table2.iloc[0,0] = f\"Difference ({group1_name} - {group2_name}) = \"\n"
     ]
    },
    {
     "data": {
      "text/plain": [
       "(  Variable     N    Mean        SD        SE  95% Conf.   Interval\n",
       " 0  Sebelum  10.0  84.510  6.639312  2.099535  79.760522  89.259478\n",
       " 1  Sesudah  10.0  83.309  5.582354  1.765295  79.315624  87.302376\n",
       " 2     diff  10.0   1.201  2.307377  0.729657  -0.449598   2.851598,\n",
       "                 Paired samples t-test  results\n",
       " 0   Difference (Sebelum - Sesudah) =    1.2010\n",
       " 1               Degrees of freedom =    9.0000\n",
       " 2                                t =    1.6460\n",
       " 3            Two side test p value =    0.1342\n",
       " 4           Difference < 0 p value =    0.0671\n",
       " 5           Difference > 0 p value =    0.9329\n",
       " 6                        Cohen's d =    0.5205\n",
       " 7                     Cohen's d_av =    0.1965\n",
       " 8                        Hedge's g =    0.4985\n",
       " 9                   Glass's delta1 =    0.1809\n",
       " 10                Point-Biserial r =    0.4810)"
      ]
     },
     "execution_count": 23,
     "metadata": {},
     "output_type": "execute_result"
    }
   ],
   "source": [
    "rp.ttest(df4['Sebelum'], df4['Sesudah'], paired=True)"
   ]
  },
  {
   "cell_type": "code",
   "execution_count": null,
   "metadata": {},
   "outputs": [],
   "source": []
  }
 ],
 "metadata": {
  "kernelspec": {
   "display_name": "Python 3 (ipykernel)",
   "language": "python",
   "name": "python3"
  },
  "language_info": {
   "codemirror_mode": {
    "name": "ipython",
    "version": 3
   },
   "file_extension": ".py",
   "mimetype": "text/x-python",
   "name": "python",
   "nbconvert_exporter": "python",
   "pygments_lexer": "ipython3",
   "version": "3.11.4"
  }
 },
 "nbformat": 4,
 "nbformat_minor": 2
}
