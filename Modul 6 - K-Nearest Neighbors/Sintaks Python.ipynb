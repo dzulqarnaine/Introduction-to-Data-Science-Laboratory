{
 "cells": [
  {
   "cell_type": "code",
   "execution_count": null,
   "id": "6ebf21ef",
   "metadata": {},
   "outputs": [],
   "source": [
    "# Impor library yang diperlukan\n",
    "import pandas as pd\n",
    "import numpy as np\n",
    "from sklearn.model_selection import train_test_split\n",
    "from sklearn.neighbors import KNeighborsClassifier\n",
    "from sklearn.metrics import accuracy_score, confusion_matrix\n",
    "\n",
    "import matplotlib.pyplot as plt\n",
    "import numpy\n",
    "from sklearn import metrics\n"
   ]
  },
  {
   "cell_type": "code",
   "execution_count": null,
   "id": "62d209e6",
   "metadata": {},
   "outputs": [],
   "source": [
    "Zulkarnaini = pd.read_csv(\"Data - diabetes.csv\", sep = ';')\n",
    "print(Zulkarnaini)"
   ]
  },
  {
   "cell_type": "code",
   "execution_count": null,
   "id": "e7afc592",
   "metadata": {},
   "outputs": [],
   "source": [
    "#ZULKARNAINI\n",
    "print(Zulkarnaini.describe())"
   ]
  },
  {
   "cell_type": "code",
   "execution_count": null,
   "id": "a7f5855a",
   "metadata": {},
   "outputs": [],
   "source": [
    "Zulkarnaini.info()"
   ]
  },
  {
   "cell_type": "code",
   "execution_count": null,
   "id": "9e563423",
   "metadata": {},
   "outputs": [],
   "source": [
    "target_name ='Outcome'\n",
    "y = Zulkarnaini[target_name]\n",
    "x = Zulkarnaini.drop(target_name, axis=1)"
   ]
  },
  {
   "cell_type": "code",
   "execution_count": null,
   "id": "f65f4908",
   "metadata": {},
   "outputs": [],
   "source": [
    "#Split Data\n",
    "#ZULKARNAINI\n",
    "\n",
    "X_train, X_test, y_train, y_test = train_test_split(x, y, test_size = 0.2, random_state=42)"
   ]
  },
  {
   "cell_type": "code",
   "execution_count": null,
   "id": "acb3c22d",
   "metadata": {},
   "outputs": [],
   "source": [
    "from sklearn.preprocessing import StandardScaler\n",
    "\n",
    "sc = StandardScaler()\n",
    "X_train = sc.fit_transform(X_train)\n",
    "X_test = sc.transform(X_test)\n",
    "print(X_train)\n",
    "print(X_test)"
   ]
  },
  {
   "cell_type": "code",
   "execution_count": null,
   "id": "b5c081cb",
   "metadata": {},
   "outputs": [],
   "source": [
    "k_list = list(range(3, 20, 2)) # k yang ganjil saja\n",
    "k_list"
   ]
  },
  {
   "cell_type": "code",
   "execution_count": null,
   "id": "26ee67c9",
   "metadata": {},
   "outputs": [],
   "source": [
    "from sklearn.metrics import accuracy_score\n",
    "for k in k_list:\n",
    "    knn = KNeighborsClassifier(n_neighbors=k).fit(X_train, y_train)\n",
    "    y_pred = knn.predict(X_test)\n",
    "    accuracy = accuracy_score(y_test, y_pred)\n",
    "    print(f\"K = {k}, Akurasi = {accuracy: .4f}\")"
   ]
  },
  {
   "cell_type": "code",
   "execution_count": null,
   "id": "7263d4ae",
   "metadata": {},
   "outputs": [],
   "source": [
    "#ZULKARNAINI\n",
    "#Inisialisasi model KNN\n",
    "\n",
    "KNN_Zulkarnaini = KNeighborsClassifier(n_neighbors=15)"
   ]
  },
  {
   "cell_type": "code",
   "execution_count": null,
   "id": "8b29b016",
   "metadata": {},
   "outputs": [],
   "source": [
    "#Train model KNN\n",
    "KNN_Zulkarnaini.fit(X_train, y_train)"
   ]
  },
  {
   "cell_type": "code",
   "execution_count": null,
   "id": "46b91c8b",
   "metadata": {},
   "outputs": [],
   "source": [
    "# Lakukan prediksi\n",
    "y_pred = knn.predict(X_test)"
   ]
  },
  {
   "cell_type": "code",
   "execution_count": null,
   "id": "2a964517",
   "metadata": {},
   "outputs": [],
   "source": [
    "#ZULKARNAINI\n",
    "\n",
    "from sklearn.metrics import accuracy_score\n",
    "akurasi = accuracy_score(y_test,y_pred) \n",
    "print(\"Tingkat Akurasi :%d persen\"%(akurasi*100))"
   ]
  },
  {
   "cell_type": "code",
   "execution_count": null,
   "id": "ca0e0f2b",
   "metadata": {},
   "outputs": [],
   "source": [
    "from sklearn.metrics import classification_report\n",
    "akurasi = classification_report(y_test,y_pred)\n",
    "print(akurasi)"
   ]
  },
  {
   "cell_type": "code",
   "execution_count": null,
   "id": "148d5457",
   "metadata": {},
   "outputs": [],
   "source": [
    "#ZULKARNAINI\n",
    "confusion_matrix = metrics.confusion_matrix(y_test, y_pred)\n",
    "cm_display = metrics.ConfusionMatrixDisplay(confusion_matrix = \n",
    "                                            confusion_matrix, display_labels = [False, True])\n",
    "cm_display.plot(cmap='Pastel1')\n",
    "plt.show()"
   ]
  },
  {
   "cell_type": "code",
   "execution_count": null,
   "id": "2e108c80",
   "metadata": {},
   "outputs": [],
   "source": []
  }
 ],
 "metadata": {
  "kernelspec": {
   "display_name": "Python 3 (ipykernel)",
   "language": "python",
   "name": "python3"
  },
  "language_info": {
   "codemirror_mode": {
    "name": "ipython",
    "version": 3
   },
   "file_extension": ".py",
   "mimetype": "text/x-python",
   "name": "python",
   "nbconvert_exporter": "python",
   "pygments_lexer": "ipython3",
   "version": "3.11.4"
  }
 },
 "nbformat": 4,
 "nbformat_minor": 5
}
